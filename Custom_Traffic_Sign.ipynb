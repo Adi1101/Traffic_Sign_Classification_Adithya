{
 "cells": [
  {
   "cell_type": "code",
   "execution_count": 1,
   "id": "9c4f7f3d",
   "metadata": {},
   "outputs": [],
   "source": [
    "import numpy as np \n",
    "import pandas as pd \n",
    "import os \n",
    "import cv2\n",
    "import matplotlib.pyplot as plt\n",
    "import tensorflow as tf\n",
    "from tensorflow import keras\n",
    "from PIL import Image\n",
    "from sklearn.model_selection import train_test_split\n",
    "from tensorflow.keras.preprocessing.image import ImageDataGenerator\n",
    "from tensorflow.keras.optimizers import Adam\n",
    "from sklearn.metrics import accuracy_score\n",
    "np.random.seed(42)"
   ]
  },
  {
   "cell_type": "code",
   "execution_count": 2,
   "id": "dd5fcc9a",
   "metadata": {},
   "outputs": [],
   "source": [
    "classes = { 0:'Speed limit (20km/h)',\n",
    "            1:'Speed limit (30km/h)', \n",
    "            2:'Speed limit (50km/h)', \n",
    "            3:'Speed limit (60km/h)', \n",
    "            4:'Speed limit (70km/h)', \n",
    "            5:'Speed limit (80km/h)', \n",
    "            6:'End of speed limit (80km/h)', \n",
    "            7:'Speed limit (100km/h)', \n",
    "            8:'Speed limit (120km/h)', \n",
    "            9:'No passing', \n",
    "            10:'No passing veh over 3.5 tons', \n",
    "            11:'Right-of-way at intersection', \n",
    "            12:'Priority road', \n",
    "            13:'Yield', \n",
    "            14:'Stop', \n",
    "            15:'No vehicles', \n",
    "            16:'Veh > 3.5 tons prohibited', \n",
    "            17:'No entry', \n",
    "            18:'General caution', \n",
    "            19:'Dangerous curve left', \n",
    "            20:'Dangerous curve right', \n",
    "            21:'Double curve', \n",
    "            22:'Bumpy road', \n",
    "            23:'Slippery road', \n",
    "            24:'Road narrows on the right', \n",
    "            25:'Road work', \n",
    "            26:'Traffic signals', \n",
    "            27:'Pedestrians', \n",
    "            28:'Children crossing', \n",
    "            29:'Bicycles crossing', \n",
    "            30:'Beware of ice/snow',\n",
    "            31:'Wild animals crossing', \n",
    "            32:'End speed + passing limits', \n",
    "            33:'Turn right ahead', \n",
    "            34:'Turn left ahead', \n",
    "            35:'Ahead only', \n",
    "            36:'Go straight or right', \n",
    "            37:'Go straight or left', \n",
    "            38:'Keep right', \n",
    "            39:'Keep left', \n",
    "            40:'Roundabout mandatory', \n",
    "            41:'End of no passing', \n",
    "            42:'End no passing veh > 3.5 tons' }"
   ]
  },
  {
   "cell_type": "code",
   "execution_count": 8,
   "id": "2507ed6c",
   "metadata": {},
   "outputs": [
    {
     "name": "stdout",
     "output_type": "stream",
     "text": [
      "Traffic sign is: Stop\n",
      "Traffic sign is: Speed limit (80km/h)\n",
      "Traffic sign is: Yield\n",
      "Traffic sign is: Keep right\n",
      "Traffic sign is: Roundabout mandatory\n",
      "Traffic sign is: Speed limit (30km/h)\n",
      "Traffic sign is: Bumpy road\n",
      "Traffic sign is: No passing\n",
      "Traffic sign is: Pedestrians\n",
      "Traffic sign is: No entry\n"
     ]
    }
   ],
   "source": [
    "model_path = \"model.h5\"\n",
    "loaded_model = tf.keras.models.load_model(model_path)\n",
    "\n",
    "def imgreturn(x):\n",
    "    \n",
    "    image = cv2.imread(\"/Users/adith/Desktop/custom_traffic_test/\"+ str(x) +\".png\")\n",
    "    \n",
    "    image_fromarray = Image.fromarray(image, 'RGB')\n",
    "    resize_image = image_fromarray.resize((30, 30))\n",
    "    expand_input = np.expand_dims(resize_image,axis=0)\n",
    "    input_data = np.array(expand_input)\n",
    "    input_data = input_data/255\n",
    "\n",
    "    pred = loaded_model.predict(input_data)\n",
    "    result = pred.argmax()\n",
    "    return result\n",
    "\n",
    "for i in range(1,10+1):\n",
    "    print(\"Traffic sign is: \" + classes[imgreturn(i)])"
   ]
  },
  {
   "cell_type": "code",
   "execution_count": null,
   "id": "c590db7a",
   "metadata": {},
   "outputs": [],
   "source": []
  }
 ],
 "metadata": {
  "kernelspec": {
   "display_name": "Python 3 (ipykernel)",
   "language": "python",
   "name": "python3"
  },
  "language_info": {
   "codemirror_mode": {
    "name": "ipython",
    "version": 3
   },
   "file_extension": ".py",
   "mimetype": "text/x-python",
   "name": "python",
   "nbconvert_exporter": "python",
   "pygments_lexer": "ipython3",
   "version": "3.7.11"
  }
 },
 "nbformat": 4,
 "nbformat_minor": 5
}
